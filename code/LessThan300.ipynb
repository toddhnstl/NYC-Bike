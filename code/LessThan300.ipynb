{
 "cells": [
  {
   "cell_type": "code",
   "execution_count": 1,
   "metadata": {},
   "outputs": [],
   "source": [
    "import pandas as pd\n",
    "import glob\n",
    "import re\n",
    "import numpy as np"
   ]
  },
  {
   "cell_type": "markdown",
   "metadata": {},
   "source": [
    "Get the 2016 records"
   ]
  },
  {
   "cell_type": "code",
   "execution_count": 2,
   "metadata": {},
   "outputs": [],
   "source": [
    "# Read 2016 CSV files and concatenate to a single dataframe\n",
    "l = [pd.read_csv(filename) for filename in glob.glob(\"../rawData/2016/*.csv\")]\n",
    "df_2016 = pd.concat(l, axis=0, sort=False)"
   ]
  },
  {
   "cell_type": "code",
   "execution_count": 3,
   "metadata": {},
   "outputs": [
    {
     "data": {
      "text/plain": [
       "tripduration                 int64\n",
       "starttime                   object\n",
       "stoptime                    object\n",
       "start station id             int64\n",
       "start station name          object\n",
       "start station latitude     float64\n",
       "start station longitude    float64\n",
       "end station id               int64\n",
       "end station name            object\n",
       "end station latitude       float64\n",
       "end station longitude      float64\n",
       "bikeid                       int64\n",
       "usertype                    object\n",
       "birth year                 float64\n",
       "gender                       int64\n",
       "dtype: object"
      ]
     },
     "execution_count": 3,
     "metadata": {},
     "output_type": "execute_result"
    }
   ],
   "source": [
    "# Check types and column names\n",
    "df_2016.dtypes"
   ]
  },
  {
   "cell_type": "code",
   "execution_count": 4,
   "metadata": {},
   "outputs": [
    {
     "data": {
      "text/plain": [
       "13845655"
      ]
     },
     "execution_count": 4,
     "metadata": {},
     "output_type": "execute_result"
    }
   ],
   "source": [
    "len(df_2016)"
   ]
  },
  {
   "cell_type": "code",
   "execution_count": 5,
   "metadata": {},
   "outputs": [],
   "source": [
    "df_2016 = df_2016[df_2016['tripduration'] > 60] "
   ]
  },
  {
   "cell_type": "code",
   "execution_count": 6,
   "metadata": {},
   "outputs": [],
   "source": [
    "df_2016 = df_2016[df_2016['tripduration'] < 300]"
   ]
  },
  {
   "cell_type": "code",
   "execution_count": 7,
   "metadata": {},
   "outputs": [],
   "source": [
    "df_2016 = df_2016[df_2016['gender'] !=0]"
   ]
  },
  {
   "cell_type": "code",
   "execution_count": 8,
   "metadata": {},
   "outputs": [
    {
     "data": {
      "text/plain": [
       "2100895"
      ]
     },
     "execution_count": 8,
     "metadata": {},
     "output_type": "execute_result"
    }
   ],
   "source": [
    "len(df_2016)"
   ]
  },
  {
   "cell_type": "markdown",
   "metadata": {},
   "source": [
    "date fields appear to move from mm/dd/yyyy to yyyy-mm-dd october.  This causes null values in data.  need to convert to tableau happy mm/dd/yyyy? starttime, stoptime"
   ]
  },
  {
   "cell_type": "code",
   "execution_count": 9,
   "metadata": {},
   "outputs": [],
   "source": [
    "# startcol = df_2016['starttime']"
   ]
  },
  {
   "cell_type": "code",
   "execution_count": 10,
   "metadata": {
    "scrolled": false
   },
   "outputs": [],
   "source": [
    "# startNewDate = []\n",
    "# for sdate in startcol:\n",
    "#     x = re.split(\"-\", sdate)\n",
    "#     if (len(x) > 1):\n",
    "#         # set it up as mm/dd/yyyy time\n",
    "#         YYYY = x[0]\n",
    "#         MM = x[1]\n",
    "#         DD_TIME = x[2]\n",
    "#         # Split day_time on space\n",
    "#         dd, dtime = DD_TIME.split()\n",
    "#         # print(f\"{YYYY}, {MM}, {dd}, {dtime}\")\n",
    "#         startString = f\"{MM}/{dd}/{YYYY} {dtime}\"\n",
    "#         #print(startString)\n",
    "#         startNewDate.append(startString)\n",
    "#     else:\n",
    "#         #- its good, go ahead and append.\n",
    "#         startNewDate.append(sdate)  "
   ]
  },
  {
   "cell_type": "code",
   "execution_count": 11,
   "metadata": {},
   "outputs": [],
   "source": [
    "# df_2016['starttime'] = startNewDate"
   ]
  },
  {
   "cell_type": "code",
   "execution_count": 12,
   "metadata": {},
   "outputs": [],
   "source": [
    "# stopcol = df_2016['stoptime']"
   ]
  },
  {
   "cell_type": "code",
   "execution_count": 13,
   "metadata": {},
   "outputs": [],
   "source": [
    "# stopNewDate = []\n",
    "# for sdate in stopcol:\n",
    "#     x = re.split(\"-\", sdate)\n",
    "#     if (len(x) > 1):\n",
    "#         # set it up as mm/dd/yyyy time\n",
    "#         YYYY = x[0]\n",
    "#         MM = x[1]\n",
    "#         DD_TIME = x[2]\n",
    "#         # Split day_time on space\n",
    "#         dd, dtime = DD_TIME.split()\n",
    "#         # print(f\"{YYYY}, {MM}, {dd}, {dtime}\")\n",
    "#         stopString = f\"{MM}/{dd}/{YYYY} {dtime}\"\n",
    "#         #print(startString)\n",
    "#         stopNewDate.append(startString)\n",
    "#     else:\n",
    "#         stopNewDate.append(sdate)"
   ]
  },
  {
   "cell_type": "code",
   "execution_count": 14,
   "metadata": {},
   "outputs": [],
   "source": [
    "# df_2016['stoptime'] = stopNewDate"
   ]
  },
  {
   "cell_type": "code",
   "execution_count": 15,
   "metadata": {},
   "outputs": [],
   "source": [
    "# Calculate age\n",
    "\n",
    "current_yr = pd.datetime.now().year\n",
    "age = []\n",
    "for byear in df_2016['birth year']:\n",
    "    _age = current_yr - byear\n",
    "    # print(_age)\n",
    "    age.append(_age)\n",
    "    \n",
    "df_2016['age'] = age    "
   ]
  },
  {
   "cell_type": "code",
   "execution_count": 16,
   "metadata": {},
   "outputs": [],
   "source": [
    "# Bin by age\n",
    "# bins = [0, 1, 5, 10, 25, 50, 100]\n",
    "# labels = [1,2,3,4,5,6]\n",
    "# df['binned'] = pd.cut(df['percentage'], bins=bins, labels=labels)\n",
    "\n",
    "bins = [0, 25, 35, 45, 55, 65, 75, 85, 95, 200]\n",
    "labels = ['0-25', '26-35', '36-45', '46-55', '56-65', '66-75', '76-85', '86-95', np.inf]\n",
    "df_2016[\"bin_age\"] = pd.cut(df_2016['age'], bins=bins, labels=labels)"
   ]
  },
  {
   "cell_type": "code",
   "execution_count": 17,
   "metadata": {},
   "outputs": [],
   "source": [
    "df_2016['genderstr'] = ''"
   ]
  },
  {
   "cell_type": "code",
   "execution_count": 18,
   "metadata": {},
   "outputs": [],
   "source": [
    "# Get text values for gender\n",
    "df_2016.loc[df_2016.gender == 0, 'genderstr'] = \"unknown\" #- these values (0) were dropped above\n",
    "df_2016.loc[df_2016.gender == 1, 'genderstr'] = \"male\"\n",
    "df_2016.loc[df_2016.gender == 2, 'genderstr'] = \"female\""
   ]
  },
  {
   "cell_type": "code",
   "execution_count": null,
   "metadata": {},
   "outputs": [],
   "source": [
    "len(df_2016)"
   ]
  },
  {
   "cell_type": "code",
   "execution_count": 19,
   "metadata": {},
   "outputs": [
    {
     "data": {
      "text/plain": [
       "2100895"
      ]
     },
     "execution_count": 19,
     "metadata": {},
     "output_type": "execute_result"
    }
   ],
   "source": [
    "df_2016['starttime'] = df_2016['starttime'].astype()\n"
   ]
  },
  {
   "cell_type": "code",
   "execution_count": null,
   "metadata": {},
   "outputs": [],
   "source": [
    "astype('datetime64[ns]')"
   ]
  },
  {
   "cell_type": "code",
   "execution_count": 20,
   "metadata": {},
   "outputs": [],
   "source": [
    "# Write out 2016 dataframe\n",
    "df_2016.to_csv('../data/bike_300OrLess.csv', index=False, date_format='%Y%m%d')"
   ]
  },
  {
   "cell_type": "code",
   "execution_count": 21,
   "metadata": {},
   "outputs": [
    {
     "data": {
      "text/plain": [
       "2100895"
      ]
     },
     "execution_count": 21,
     "metadata": {},
     "output_type": "execute_result"
    }
   ],
   "source": [
    "len(df_2016)"
   ]
  },
  {
   "cell_type": "code",
   "execution_count": null,
   "metadata": {},
   "outputs": [],
   "source": []
  },
  {
   "cell_type": "code",
   "execution_count": null,
   "metadata": {},
   "outputs": [],
   "source": []
  }
 ],
 "metadata": {
  "kernelspec": {
   "display_name": "Python [conda env:pandas] *",
   "language": "python",
   "name": "conda-env-pandas-py"
  },
  "language_info": {
   "codemirror_mode": {
    "name": "ipython",
    "version": 3
   },
   "file_extension": ".py",
   "mimetype": "text/x-python",
   "name": "python",
   "nbconvert_exporter": "python",
   "pygments_lexer": "ipython3",
   "version": "3.6.9"
  }
 },
 "nbformat": 4,
 "nbformat_minor": 2
}
